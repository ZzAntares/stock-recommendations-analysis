{
 "cells": [
  {
   "cell_type": "markdown",
   "metadata": {},
   "source": [
    "# Análisis de datos sobre recomendaciones de portafolios por ZZAlpha Ltd\n",
    "\n",
    "_Preparado por Julio César Gutiérrez Muñoz_.\n",
    "\n",
    "Fuente de datos: [UCI Machine Learning Repository - ZZAlpha Ltd. Stock Recommendations 2012-2014](https://archive.ics.uci.edu/ml/datasets/Machine+Learning+based+ZZAlpha+Ltd.+Stock+Recommendations+2012-2014)\n",
    "\n",
    "Las librerías necesarias para la correcta ejecución de este notebook son:\n",
    "\n",
    "- Pandas\n",
    "- Matplotlib\n",
    "- PySpark\n",
    "- Pymongo"
   ]
  },
  {
   "cell_type": "markdown",
   "metadata": {},
   "source": [
    "## Estructura de los datos\n",
    "\n",
    "El dataset se compone de tres carpetas las cuales contienen 250, 252 y 253 archivos respectivamente:"
   ]
  },
  {
   "cell_type": "code",
   "execution_count": 217,
   "metadata": {},
   "outputs": [
    {
     "name": "stdout",
     "output_type": "stream",
     "text": [
      "portfolio-recommendations\r\n",
      "├── sNewsListWResults2012 [250 entries exceeds filelimit, not opening dir]\r\n",
      "├── sNewsListWResults2013 [252 entries exceeds filelimit, not opening dir]\r\n",
      "└── sNewsListWResults2014 [253 entries exceeds filelimit, not opening dir]\r\n",
      "\r\n",
      "3 directories, 0 files\r\n"
     ]
    }
   ],
   "source": [
    "!tree -L 2 --filelimit 3 portfolio-recommendations"
   ]
  },
  {
   "cell_type": "markdown",
   "metadata": {},
   "source": [
    "El número de lineas contenidas en cada archivo varía así como su estructura, en total el dataset contiene 482,016 portafolios con recomendaciónes de inversión realizadas por ZZAlpha Ltd entre el 2011 y el 2014:"
   ]
  },
  {
   "cell_type": "code",
   "execution_count": 218,
   "metadata": {},
   "outputs": [
    {
     "name": "stdout",
     "output_type": "stream",
     "text": [
      "No. lines: 482016 total\r\n"
     ]
    }
   ],
   "source": [
    "!find portfolio-recommendations/ -name '*.txt' -type f | xargs wc -l | grep total | xargs echo \"No. lines:\""
   ]
  },
  {
   "cell_type": "markdown",
   "metadata": {},
   "source": [
    "Dichas recomendaciones están organizadas en portafolios de diferentes tamaños (entre 1 y 20 stocks c/u), cuando estas recomendaciones se toman en cuenta individualmente se observa que se realizaron un total de 3,467,030 de operaciones en el periodo mencionado."
   ]
  },
  {
   "cell_type": "markdown",
   "metadata": {},
   "source": [
    "Cada linea tiene una estructura similar a la siguiente:\n",
    "\n",
    "```\n",
    "Jan 04 2005_006 Big_100_5_LONG_SHORT_F.pdf, L, AA 0.959 =25.97/27.09, AMAT 0.950 =14.70/15.46, EBAY 0.930=53.33/57.31, PFE 0.995 =19.84/19.95, UPS 0.980 =71.72/73.16, Avg of 5 = 0.963\n",
    "```\n",
    "\n",
    "> The above indicates recommendations were made before market open on **Jan 4, 2005**. This portfolio was limited to the biggest **100 cap stocks** and was of **size 5**. It was for **'L'** or long recommendations. The **five stocks recommended are shown by ticker, result, price at sale divided by price at purchase**. The **average for the five is shown**."
   ]
  },
  {
   "cell_type": "markdown",
   "metadata": {},
   "source": [
    "Se define la función mapper que transforma cada linea en una estructura más ordenada que puede ser exportada a CSV fácilmente.\n",
    "\n",
    "#### Sample Input\n",
    "\n",
    "```\n",
    "'Jul 09 2012_140 Cap_1-5B_20_LONG_F.pdf, L, AGP 1.000 =missing,AIZ 0.987 =34.40/34.86,BPOP 1.007 =16.21/16.10,CCO 0.830 =4.75/5.72,CNC 1.104 =35.71/32.36,DWA 1.001 =19.32/19.31,GEF 1.014 =41.88/41.30,HGSI 1.046 =14.22/13.59,HNT 1.018 =26.30/25.83,IOC 1.064 =74.44/69.94,JEF 0.997 =12.67/12.71,JNS 0.959 =7.23/7.54,KCG 0.994 =11.77/11.84,MAKO 1.000 =missing,OPEN 0.995 =38.74/38.94,PL 0.986 =29.61/30.03,SFG 0.990 =37.31/37.70,SINA 0.969 =49.04/50.60,STSA 0.996 =19.29/19.37,TRGP 1.058 =44.74/42.27, Avg of 18 = 1.001'\n",
    "```\n",
    "\n",
    "#### Sample Output\n",
    "\n",
    "```\n",
    "('2012-07-09 00:00:00', 'Cap_1-5B_20_LONG_F', 'L', '1.001', 'AGP:1.000:*:*', 'AIZ:0.987:34.40:34.86', 'BPOP:1.007:16.21:16.10', 'CCO:0.830:4.75:5.72', 'CNC:1.104:35.71:32.36', 'DWA:1.001:19.32:19.31', 'GEF:1.014:41.88:41.30', 'HGSI:1.046:14.22:13.59', 'HNT:1.018:26.30:25.83', 'IOC:1.064:74.44:69.94', 'JEF:0.997:12.67:12.71', 'JNS:0.959:7.23:7.54', 'KCG:0.994:11.77:11.84', 'MAKO:1.000:*:*', 'OPEN:0.995:38.74:38.94', 'PL:0.986:29.61:30.03', 'SFG:0.990:37.31:37.70', 'SINA:0.969:49.04:50.60', 'STSA:0.996:19.29:19.37', 'TRGP:1.058:44.74:42.27')\n",
    "```"
   ]
  },
  {
   "cell_type": "code",
   "execution_count": 70,
   "metadata": {},
   "outputs": [],
   "source": [
    "import csv\n",
    "import pandas as pd\n",
    "import numpy as np\n",
    "import matplotlib.pyplot as plt\n",
    "from pyspark import SparkContext\n",
    "from dateutil import parser\n",
    "from pymongo import MongoClient"
   ]
  },
  {
   "cell_type": "code",
   "execution_count": 220,
   "metadata": {},
   "outputs": [],
   "source": [
    "SparkContext.setSystemProperty('spark.executor.memory', '2g')\n",
    "sc = SparkContext.getOrCreate()\n",
    "\n",
    "dataset = sc.textFile('portfolio-recommendations/*/*.txt')"
   ]
  },
  {
   "cell_type": "code",
   "execution_count": 221,
   "metadata": {},
   "outputs": [
    {
     "data": {
      "text/plain": [
       "[('spark.app.id', 'local-1512587159235'),\n",
       " ('spark.executor.memory', '2g'),\n",
       " ('spark.rdd.compress', 'True'),\n",
       " ('spark.driver.host', '10.13.8.32'),\n",
       " ('spark.serializer.objectStreamReset', '100'),\n",
       " ('spark.master', 'local[*]'),\n",
       " ('spark.executor.id', 'driver'),\n",
       " ('spark.submit.deployMode', 'client'),\n",
       " ('spark.driver.port', '56474'),\n",
       " ('spark.app.name', 'pyspark-shell')]"
      ]
     },
     "execution_count": 221,
     "metadata": {},
     "output_type": "execute_result"
    }
   ],
   "source": [
    "sc._conf.getAll()"
   ]
  },
  {
   "cell_type": "code",
   "execution_count": 222,
   "metadata": {},
   "outputs": [],
   "source": [
    "def transform(line):\n",
    "    data = list(map(str.strip, line.split(',')))\n",
    "    \n",
    "    if len(data) < 3:\n",
    "        return 'missing'\n",
    "    \n",
    "    if 'Avg of 0' in data[-1]:\n",
    "        return 'missing'\n",
    "    \n",
    "    report_info, operation, *stocks, avg = data\n",
    "    \n",
    "    # Extract date and name from report title\n",
    "    report_date_code, report_name = report_info.rsplit(' ', 1)\n",
    "    report_date = parser.parse(report_date_code.split('_')[0])\n",
    "    \n",
    "    # Extract average value\n",
    "    average = avg.split('=')[1].strip()\n",
    "    # average = average if average.isdigit() else '*'\n",
    "    if not average.isdigit():\n",
    "        print(average)\n",
    "    \n",
    "    # Format tickers (Remove '=', '/', ' ')\n",
    "    stocks = [\n",
    "        s.replace('=', '', 1).replace('/', ':', 1) \\\n",
    "        .replace(' ', ':').replace('missing', '*:*') \\\n",
    "        for s in stocks\n",
    "    ]\n",
    "    \n",
    "    return '{rdate},{rname},{op},{avg},{stocks}'.format(\n",
    "        rdate=str(report_date),\n",
    "        rname=report_name[:-4],\n",
    "        op=operation,\n",
    "        avg=average,\n",
    "        stocks=','.join(stocks))"
   ]
  },
  {
   "cell_type": "code",
   "execution_count": 223,
   "metadata": {},
   "outputs": [],
   "source": [
    "ds = dataset.map(transform)\n",
    "ds.saveAsTextFile('alpha-recommendations')"
   ]
  },
  {
   "cell_type": "markdown",
   "metadata": {},
   "source": [
    "Después de la transformación combinamos todos los diferentes archivos producidos por pyspark en uno solo `alpha-recommendations.csv` y eliminamos aquellos registros mal formados (_missing_):"
   ]
  },
  {
   "cell_type": "code",
   "execution_count": 224,
   "metadata": {},
   "outputs": [
    {
     "name": "stdout",
     "output_type": "stream",
     "text": [
      "2012-03-27 00:00:00,Big_100_1_LONG_SHORT_F,L,1.007,PM:1.007:88.79:88.14\r\n",
      "2012-03-27 00:00:00,Big_100_1_LONG_SHORT_F,S,0.990,V:0.990:118.84:119.98\r\n",
      "2012-03-27 00:00:00,Big_100_2_LONG_SHORT_F,L,0.993,PM:1.007:88.79:88.14,VZ:0.979:37.95:38.76\r\n",
      "2012-03-27 00:00:00,Big_100_2_LONG_SHORT_F,S,0.994,V:0.990:118.84:119.98,WMT:0.997:61.14:61.35\r\n",
      "2012-03-27 00:00:00,Big_100_5_LONG_SHORT_F,L,0.994,APA:0.992:100.58:101.42,F:1.016:12.71:12.51,OXY:0.978:97.49:99.73,PM:1.007:88.79:88.14,VZ:0.979:37.95:38.76\r\n"
     ]
    }
   ],
   "source": [
    "!cat alpha-recommendations/* | gsed '/missing/d' > alpha-recommendations.csv\n",
    "!head -n5 alpha-recommendations.csv"
   ]
  },
  {
   "cell_type": "markdown",
   "metadata": {},
   "source": [
    "## Almacenamiento de los datos\n",
    "\n",
    "Para almacenar los datos de manera estructurada utilizamos MongoDB. A continuación se define el script que carga los datos de CSV a MongoDB:"
   ]
  },
  {
   "cell_type": "code",
   "execution_count": 3,
   "metadata": {},
   "outputs": [],
   "source": [
    "conn = MongoClient()\n",
    "db = conn.alpha"
   ]
  },
  {
   "cell_type": "code",
   "execution_count": 226,
   "metadata": {},
   "outputs": [],
   "source": [
    "with open('alpha-recommendations.csv', 'r') as f:\n",
    "    reader = csv.reader(f)\n",
    "\n",
    "    for i, line in enumerate(reader):\n",
    "        date, name, operation, average, *stocks = line\n",
    "        size = len(stocks)\n",
    "        \n",
    "        recommendations = []\n",
    "        for stock in stocks:\n",
    "            ticker, roe, sold_at, bought_at = filter(None, stock.split(':'))\n",
    "\n",
    "            recommendations.append({\n",
    "                'ticker': ticker,\n",
    "                'result': roe,\n",
    "                'price_at_sale': sold_at,\n",
    "                'price_at_purchase': bought_at\n",
    "            })\n",
    "            \n",
    "        db.recommendations.insert_one({\n",
    "            'date': date,\n",
    "            'portfolio': name,\n",
    "            'rid': i,\n",
    "            'position': operation,\n",
    "            'avg_result': average,\n",
    "            'recommendations': size,\n",
    "            'stocks': recommendations\n",
    "        })"
   ]
  },
  {
   "cell_type": "markdown",
   "metadata": {},
   "source": [
    "## Consultas y Agregaciones"
   ]
  },
  {
   "cell_type": "code",
   "execution_count": 4,
   "metadata": {},
   "outputs": [],
   "source": [
    "def printer(res):\n",
    "    for r in res:\n",
    "        print(r)"
   ]
  },
  {
   "cell_type": "markdown",
   "metadata": {},
   "source": [
    "### ¿Cuántos portafolios diferentes se recomendaron?"
   ]
  },
  {
   "cell_type": "code",
   "execution_count": 158,
   "metadata": {},
   "outputs": [
    {
     "name": "stdout",
     "output_type": "stream",
     "text": [
      "{'Unique portfolios': 438}\n"
     ]
    }
   ],
   "source": [
    "result = db.recommendations.aggregate([\n",
    "    { '$group': { '_id': '$portfolio' } },\n",
    "    { '$count': 'Unique portfolios' }\n",
    "])\n",
    "\n",
    "printer(result)"
   ]
  },
  {
   "cell_type": "markdown",
   "metadata": {},
   "source": [
    "### ¿De cuantos stocks se componen los diferentes portafolios que se recomendaron?"
   ]
  },
  {
   "cell_type": "code",
   "execution_count": 160,
   "metadata": {},
   "outputs": [
    {
     "name": "stdout",
     "output_type": "stream",
     "text": [
      "{'_id': 20}\n",
      "{'_id': 19}\n",
      "{'_id': 18}\n",
      "{'_id': 17}\n",
      "{'_id': 16}\n",
      "{'_id': 15}\n",
      "{'_id': 14}\n",
      "{'_id': 13}\n",
      "{'_id': 12}\n",
      "{'_id': 11}\n",
      "{'_id': 10}\n",
      "{'_id': 9}\n",
      "{'_id': 8}\n",
      "{'_id': 7}\n",
      "{'_id': 6}\n",
      "{'_id': 5}\n",
      "{'_id': 4}\n",
      "{'_id': 3}\n",
      "{'_id': 2}\n",
      "{'_id': 1}\n"
     ]
    }
   ],
   "source": [
    "result = db.recommendations.aggregate([\n",
    "    { '$group': { '_id': '$recommendations' } },\n",
    "    { '$sort': { '_id': -1 } }\n",
    "])\n",
    "\n",
    "printer(result)"
   ]
  },
  {
   "cell_type": "markdown",
   "metadata": {},
   "source": [
    "### ¿Cuántas posiciones Long se recomendaron? ¿Cuántas fueron Short?"
   ]
  },
  {
   "cell_type": "code",
   "execution_count": 162,
   "metadata": {},
   "outputs": [
    {
     "name": "stdout",
     "output_type": "stream",
     "text": [
      "{'Long positions': 320840}\n"
     ]
    }
   ],
   "source": [
    "result = db.recommendations.aggregate([\n",
    "    { '$match': { 'position': 'L' } },\n",
    "    { '$count': 'Long positions' }\n",
    "])\n",
    "\n",
    "printer(result)"
   ]
  },
  {
   "cell_type": "code",
   "execution_count": 163,
   "metadata": {},
   "outputs": [
    {
     "name": "stdout",
     "output_type": "stream",
     "text": [
      "{'Short positions': 160421}\n"
     ]
    }
   ],
   "source": [
    "result = db.recommendations.aggregate([\n",
    "    { '$match': { 'position': 'S' } },\n",
    "    { '$count': 'Short positions' }\n",
    "])\n",
    "\n",
    "printer(result)"
   ]
  },
  {
   "cell_type": "markdown",
   "metadata": {},
   "source": [
    "### ¿Cuántas recomendaciones fueron exitosas? ¿Cuántas fueron equivocadas?"
   ]
  },
  {
   "cell_type": "code",
   "execution_count": 164,
   "metadata": {},
   "outputs": [
    {
     "name": "stdout",
     "output_type": "stream",
     "text": [
      "{'Successful recommendations': 266357}\n"
     ]
    }
   ],
   "source": [
    "result = db.recommendations.aggregate([\n",
    "    { '$match': { 'avg_result': { '$gt': '1' } } },\n",
    "    { '$count': 'Successful recommendations' }\n",
    "])\n",
    "\n",
    "printer(result)"
   ]
  },
  {
   "cell_type": "code",
   "execution_count": 166,
   "metadata": {},
   "outputs": [
    {
     "name": "stdout",
     "output_type": "stream",
     "text": [
      "{'Wrong recommendations': 214904}\n"
     ]
    }
   ],
   "source": [
    "result = db.recommendations.aggregate([\n",
    "    { '$match': { 'avg_result': { '$lt': '1' } } },\n",
    "    { '$count': 'Wrong recommendations' }\n",
    "])\n",
    "\n",
    "printer(result)"
   ]
  },
  {
   "cell_type": "markdown",
   "metadata": {},
   "source": [
    "### ¿Cuál fue la recomendación con el mejor resultado? ¿Cuál con el peor resultado?"
   ]
  },
  {
   "cell_type": "code",
   "execution_count": 233,
   "metadata": {},
   "outputs": [
    {
     "name": "stdout",
     "output_type": "stream",
     "text": [
      "{'_id': ObjectId('5a2ac400a4ce83963e470bd9'), 'date': '2014-06-25 00:00:00', 'portfolio': 'S12-Util_1_LONG_SHORT_F', 'rid': 461359, 'position': 'L', 'avg_result': '3.109', 'recommendations': 1, 'stocks': [{'ticker': 'USU', 'result': '3.109', 'price_at_sale': '8.55', 'price_at_purchase': '2.75'}]}\n"
     ]
    }
   ],
   "source": [
    "result = db.recommendations.aggregate([\n",
    "    { '$sort': { 'avg_result': -1 } },\n",
    "    { '$limit': 1 }\n",
    "])\n",
    "\n",
    "printer(result)"
   ]
  },
  {
   "cell_type": "code",
   "execution_count": 234,
   "metadata": {},
   "outputs": [
    {
     "name": "stdout",
     "output_type": "stream",
     "text": [
      "{'_id': ObjectId('5a2ac342a4ce83963e416a9f'), 'date': '2012-08-31 00:00:00', 'portfolio': 'Cap_2-250m_1_LONG_SHORT_F', 'rid': 92405, 'position': 'L', 'avg_result': '0.236', 'recommendations': 1, 'stocks': [{'ticker': 'DDMG', 'result': '0.236', 'price_at_sale': '0.55', 'price_at_purchase': '2.33'}]}\n"
     ]
    }
   ],
   "source": [
    "result = db.recommendations.aggregate([\n",
    "    { '$sort': { 'avg_result': 1 } },\n",
    "    { '$limit': 1 }\n",
    "])\n",
    "\n",
    "printer(result)"
   ]
  },
  {
   "cell_type": "markdown",
   "metadata": {},
   "source": [
    "## Visualización de datos"
   ]
  },
  {
   "cell_type": "markdown",
   "metadata": {},
   "source": [
    "A continuación se cargan los datos en un DataFrame de Pandas para su posterior manejo:"
   ]
  },
  {
   "cell_type": "code",
   "execution_count": 45,
   "metadata": {},
   "outputs": [],
   "source": [
    "result = db.recommendations.aggregate([\n",
    "    { '$unwind': '$stocks' },\n",
    "    { '$project': {\n",
    "        '_id': 0,\n",
    "        'date': 1,\n",
    "        'portfolio': 1,\n",
    "        'pid': '$rid',\n",
    "        'avg_result': 1,\n",
    "        'position': 1,\n",
    "        'recommendations': 1,\n",
    "        'ticker': '$stocks.ticker',\n",
    "        'result': '$stocks.result',\n",
    "        'price_at_sale': '$stocks.price_at_sale',\n",
    "        'price_at_purchase': '$stocks.price_at_purchase'\n",
    "       }\n",
    "     }\n",
    "])\n",
    "\n",
    "recommendations = pd.DataFrame(list(result))"
   ]
  },
  {
   "cell_type": "code",
   "execution_count": 47,
   "metadata": {},
   "outputs": [
    {
     "data": {
      "text/html": [
       "<div>\n",
       "<style scoped>\n",
       "    .dataframe tbody tr th:only-of-type {\n",
       "        vertical-align: middle;\n",
       "    }\n",
       "\n",
       "    .dataframe tbody tr th {\n",
       "        vertical-align: top;\n",
       "    }\n",
       "\n",
       "    .dataframe thead th {\n",
       "        text-align: right;\n",
       "    }\n",
       "</style>\n",
       "<table border=\"1\" class=\"dataframe\">\n",
       "  <thead>\n",
       "    <tr style=\"text-align: right;\">\n",
       "      <th></th>\n",
       "      <th>avg_result</th>\n",
       "      <th>date</th>\n",
       "      <th>pid</th>\n",
       "      <th>portfolio</th>\n",
       "      <th>position</th>\n",
       "      <th>price_at_purchase</th>\n",
       "      <th>price_at_sale</th>\n",
       "      <th>recommendations</th>\n",
       "      <th>result</th>\n",
       "      <th>ticker</th>\n",
       "    </tr>\n",
       "  </thead>\n",
       "  <tbody>\n",
       "    <tr>\n",
       "      <th>3467026</th>\n",
       "      <td>0.991</td>\n",
       "      <td>2014-04-09 00:00:00</td>\n",
       "      <td>480950</td>\n",
       "      <td>Double_Diamond_5_LONG_F</td>\n",
       "      <td>L</td>\n",
       "      <td>148.25</td>\n",
       "      <td>147.17</td>\n",
       "      <td>5</td>\n",
       "      <td>0.993</td>\n",
       "      <td>ALXN</td>\n",
       "    </tr>\n",
       "    <tr>\n",
       "      <th>3467027</th>\n",
       "      <td>0.991</td>\n",
       "      <td>2014-04-09 00:00:00</td>\n",
       "      <td>480950</td>\n",
       "      <td>Double_Diamond_5_LONG_F</td>\n",
       "      <td>L</td>\n",
       "      <td>32.64</td>\n",
       "      <td>32.60</td>\n",
       "      <td>5</td>\n",
       "      <td>0.999</td>\n",
       "      <td>HPQ</td>\n",
       "    </tr>\n",
       "    <tr>\n",
       "      <th>3467028</th>\n",
       "      <td>0.991</td>\n",
       "      <td>2014-04-09 00:00:00</td>\n",
       "      <td>480950</td>\n",
       "      <td>Double_Diamond_5_LONG_F</td>\n",
       "      <td>L</td>\n",
       "      <td>7.12</td>\n",
       "      <td>7.13</td>\n",
       "      <td>5</td>\n",
       "      <td>1.001</td>\n",
       "      <td>PLUG</td>\n",
       "    </tr>\n",
       "    <tr>\n",
       "      <th>3467029</th>\n",
       "      <td>0.991</td>\n",
       "      <td>2014-04-09 00:00:00</td>\n",
       "      <td>480950</td>\n",
       "      <td>Double_Diamond_5_LONG_F</td>\n",
       "      <td>L</td>\n",
       "      <td>3.08</td>\n",
       "      <td>3.09</td>\n",
       "      <td>5</td>\n",
       "      <td>1.003</td>\n",
       "      <td>SIRI</td>\n",
       "    </tr>\n",
       "    <tr>\n",
       "      <th>3467030</th>\n",
       "      <td>0.991</td>\n",
       "      <td>2014-04-09 00:00:00</td>\n",
       "      <td>480950</td>\n",
       "      <td>Double_Diamond_5_LONG_F</td>\n",
       "      <td>L</td>\n",
       "      <td>72.00</td>\n",
       "      <td>69.15</td>\n",
       "      <td>5</td>\n",
       "      <td>0.960</td>\n",
       "      <td>SNX</td>\n",
       "    </tr>\n",
       "  </tbody>\n",
       "</table>\n",
       "</div>"
      ],
      "text/plain": [
       "        avg_result                 date     pid                portfolio  \\\n",
       "3467026      0.991  2014-04-09 00:00:00  480950  Double_Diamond_5_LONG_F   \n",
       "3467027      0.991  2014-04-09 00:00:00  480950  Double_Diamond_5_LONG_F   \n",
       "3467028      0.991  2014-04-09 00:00:00  480950  Double_Diamond_5_LONG_F   \n",
       "3467029      0.991  2014-04-09 00:00:00  480950  Double_Diamond_5_LONG_F   \n",
       "3467030      0.991  2014-04-09 00:00:00  480950  Double_Diamond_5_LONG_F   \n",
       "\n",
       "        position price_at_purchase price_at_sale  recommendations result  \\\n",
       "3467026        L            148.25        147.17                5  0.993   \n",
       "3467027        L             32.64         32.60                5  0.999   \n",
       "3467028        L              7.12          7.13                5  1.001   \n",
       "3467029        L              3.08          3.09                5  1.003   \n",
       "3467030        L             72.00         69.15                5  0.960   \n",
       "\n",
       "        ticker  \n",
       "3467026   ALXN  \n",
       "3467027    HPQ  \n",
       "3467028   PLUG  \n",
       "3467029   SIRI  \n",
       "3467030    SNX  "
      ]
     },
     "execution_count": 47,
     "metadata": {},
     "output_type": "execute_result"
    }
   ],
   "source": [
    "recommendations.tail()"
   ]
  },
  {
   "cell_type": "code",
   "execution_count": 185,
   "metadata": {},
   "outputs": [
    {
     "data": {
      "text/html": [
       "<style  type=\"text/css\" >\n",
       "</style>  \n",
       "<table id=\"T_25c66428_dc94_11e7_a9b0_60f81db42270\" > \n",
       "<thead>    <tr> \n",
       "        <th class=\"blank level0\" ></th> \n",
       "        <th class=\"col_heading level0 col0\" >index</th> \n",
       "        <th class=\"col_heading level0 col1\" >avg_result</th> \n",
       "    </tr></thead> \n",
       "<tbody>    <tr> \n",
       "        <th id=\"T_25c66428_dc94_11e7_a9b0_60f81db42270level0_row0\" class=\"row_heading level0 row0\" >0</th> \n",
       "        <td id=\"T_25c66428_dc94_11e7_a9b0_60f81db42270row0_col0\" class=\"data row0 col0\" >count</td> \n",
       "        <td id=\"T_25c66428_dc94_11e7_a9b0_60f81db42270row0_col1\" class=\"data row0 col1\" >3467031.0000</td> \n",
       "    </tr>    <tr> \n",
       "        <th id=\"T_25c66428_dc94_11e7_a9b0_60f81db42270level0_row1\" class=\"row_heading level0 row1\" >1</th> \n",
       "        <td id=\"T_25c66428_dc94_11e7_a9b0_60f81db42270row1_col0\" class=\"data row1 col0\" >mean</td> \n",
       "        <td id=\"T_25c66428_dc94_11e7_a9b0_60f81db42270row1_col1\" class=\"data row1 col1\" >1.0031</td> \n",
       "    </tr>    <tr> \n",
       "        <th id=\"T_25c66428_dc94_11e7_a9b0_60f81db42270level0_row2\" class=\"row_heading level0 row2\" >2</th> \n",
       "        <td id=\"T_25c66428_dc94_11e7_a9b0_60f81db42270row2_col0\" class=\"data row2 col0\" >std</td> \n",
       "        <td id=\"T_25c66428_dc94_11e7_a9b0_60f81db42270row2_col1\" class=\"data row2 col1\" >0.0341</td> \n",
       "    </tr>    <tr> \n",
       "        <th id=\"T_25c66428_dc94_11e7_a9b0_60f81db42270level0_row3\" class=\"row_heading level0 row3\" >3</th> \n",
       "        <td id=\"T_25c66428_dc94_11e7_a9b0_60f81db42270row3_col0\" class=\"data row3 col0\" >min</td> \n",
       "        <td id=\"T_25c66428_dc94_11e7_a9b0_60f81db42270row3_col1\" class=\"data row3 col1\" >0.2360</td> \n",
       "    </tr>    <tr> \n",
       "        <th id=\"T_25c66428_dc94_11e7_a9b0_60f81db42270level0_row4\" class=\"row_heading level0 row4\" >4</th> \n",
       "        <td id=\"T_25c66428_dc94_11e7_a9b0_60f81db42270row4_col0\" class=\"data row4 col0\" >25%</td> \n",
       "        <td id=\"T_25c66428_dc94_11e7_a9b0_60f81db42270row4_col1\" class=\"data row4 col1\" >0.9860</td> \n",
       "    </tr>    <tr> \n",
       "        <th id=\"T_25c66428_dc94_11e7_a9b0_60f81db42270level0_row5\" class=\"row_heading level0 row5\" >5</th> \n",
       "        <td id=\"T_25c66428_dc94_11e7_a9b0_60f81db42270row5_col0\" class=\"data row5 col0\" >50%</td> \n",
       "        <td id=\"T_25c66428_dc94_11e7_a9b0_60f81db42270row5_col1\" class=\"data row5 col1\" >1.0040</td> \n",
       "    </tr>    <tr> \n",
       "        <th id=\"T_25c66428_dc94_11e7_a9b0_60f81db42270level0_row6\" class=\"row_heading level0 row6\" >6</th> \n",
       "        <td id=\"T_25c66428_dc94_11e7_a9b0_60f81db42270row6_col0\" class=\"data row6 col0\" >75%</td> \n",
       "        <td id=\"T_25c66428_dc94_11e7_a9b0_60f81db42270row6_col1\" class=\"data row6 col1\" >1.0200</td> \n",
       "    </tr>    <tr> \n",
       "        <th id=\"T_25c66428_dc94_11e7_a9b0_60f81db42270level0_row7\" class=\"row_heading level0 row7\" >7</th> \n",
       "        <td id=\"T_25c66428_dc94_11e7_a9b0_60f81db42270row7_col0\" class=\"data row7 col0\" >max</td> \n",
       "        <td id=\"T_25c66428_dc94_11e7_a9b0_60f81db42270row7_col1\" class=\"data row7 col1\" >3.1090</td> \n",
       "    </tr></tbody> \n",
       "</table> "
      ],
      "text/plain": [
       "<pandas.io.formats.style.Styler at 0x124641f60>"
      ]
     },
     "execution_count": 185,
     "metadata": {},
     "output_type": "execute_result"
    }
   ],
   "source": [
    "recommendations.avg_result.describe().reset_index().style.format({'avg_result': '{:.4f}'})"
   ]
  },
  {
   "cell_type": "code",
   "execution_count": 181,
   "metadata": {},
   "outputs": [
    {
     "data": {
      "text/plain": [
       "3.109"
      ]
     },
     "execution_count": 181,
     "metadata": {},
     "output_type": "execute_result"
    }
   ],
   "source": [
    "recommendations.avg_result.max()"
   ]
  },
  {
   "cell_type": "code",
   "execution_count": 73,
   "metadata": {},
   "outputs": [
    {
     "data": {
      "text/plain": [
       "avg_result           float64\n",
       "date                  object\n",
       "pid                    int64\n",
       "portfolio             object\n",
       "position              object\n",
       "price_at_purchase    float64\n",
       "price_at_sale        float64\n",
       "recommendations        int64\n",
       "result               float64\n",
       "ticker                object\n",
       "dtype: object"
      ]
     },
     "execution_count": 73,
     "metadata": {},
     "output_type": "execute_result"
    }
   ],
   "source": [
    "# Convert string values to numerical\n",
    "recommendations['avg_result'] = recommendations['avg_result'].astype('float64')\n",
    "recommendations['result'] = recommendations['result'].astype('float64')\n",
    "\n",
    "recommendations['price_at_purchase'].replace('*', np.nan, inplace=True)\n",
    "recommendations['price_at_sale'].replace('*', np.nan, inplace=True)\n",
    "\n",
    "recommendations['price_at_purchase'] = recommendations['price_at_purchase'].astype('float64')\n",
    "recommendations['price_at_sale'] = recommendations['price_at_sale'].astype('float64')\n",
    "\n",
    "recommendations.dtypes"
   ]
  },
  {
   "cell_type": "markdown",
   "metadata": {},
   "source": [
    "ZZAlpha realizó sus recomendaciones publicando portafolios de un tamaño estándar (1, 2, 5, 10 y 20 stocks), a continuación se muestra la distribución de las recomendaciones hechas por el tamaño del portafolio."
   ]
  },
  {
   "cell_type": "code",
   "execution_count": 31,
   "metadata": {},
   "outputs": [
    {
     "data": {
      "image/png": "[encoded data removed]",
      "text/plain": [
       "<matplotlib.figure.Figure at 0x10c680ac8>"
      ]
     },
     "metadata": {},
     "output_type": "display_data"
    }
   ],
   "source": [
    "portfolios = recommendations.groupby('recommendations').size()\n",
    "portfolios[[1, 2, 5, 10, 20]].plot(kind='bar', title='Standard portfolio size recommendations', figsize=(10, 5))\n",
    "plt.xlabel('Portfolio sizes')\n",
    "plt.ylabel('Recommendations made')\n",
    "plt.show()"
   ]
  },
  {
   "cell_type": "markdown",
   "metadata": {},
   "source": [
    "Se realizaron recomendaciones para portafolios de tamaños no estándar pero estos son relativamente pocos cuando se compara a las recomendaciones que se hicieron para portafolios estándar. A continuación se muestra la distribución de recomendaciones en portafolios no estándar."
   ]
  },
  {
   "cell_type": "code",
   "execution_count": 38,
   "metadata": {},
   "outputs": [
    {
     "data": {
      "image/png": "[encoded data removed]",
      "text/plain": [
       "<matplotlib.figure.Figure at 0x10c7931d0>"
      ]
     },
     "metadata": {},
     "output_type": "display_data"
    }
   ],
   "source": [
    "portfolios.drop([1, 2, 5, 10, 20]).plot(kind='bar', title='Non standard portfolio size recommendations', figsize=(15, 5))\n",
    "plt.xlabel('Portfolio sizes')\n",
    "plt.ylabel('Recomendations made')\n",
    "plt.show()"
   ]
  },
  {
   "cell_type": "markdown",
   "metadata": {},
   "source": [
    "También se observa que la mayoría de las recomendaciones fueron posiciones Long (compra de stock) siendo casi el doble de las posiciones Short recomendadas."
   ]
  },
  {
   "cell_type": "code",
   "execution_count": 84,
   "metadata": {},
   "outputs": [
    {
     "data": {
      "image/png": "[encoded data removed]",
      "text/plain": [
       "<matplotlib.figure.Figure at 0x10c8438d0>"
      ]
     },
     "metadata": {},
     "output_type": "display_data"
    }
   ],
   "source": [
    "recommendations.groupby('position').size().plot(kind='bar', title='Recommendations made by position type')\n",
    "plt.xlabel('Position type (Long / Short)')\n",
    "plt.ylabel('Recommendations made')\n",
    "plt.show()"
   ]
  },
  {
   "cell_type": "code",
   "execution_count": 91,
   "metadata": {},
   "outputs": [
    {
     "data": {
      "text/html": [
       "<div>\n",
       "<style scoped>\n",
       "    .dataframe tbody tr th:only-of-type {\n",
       "        vertical-align: middle;\n",
       "    }\n",
       "\n",
       "    .dataframe tbody tr th {\n",
       "        vertical-align: top;\n",
       "    }\n",
       "\n",
       "    .dataframe thead th {\n",
       "        text-align: right;\n",
       "    }\n",
       "</style>\n",
       "<table border=\"1\" class=\"dataframe\">\n",
       "  <thead>\n",
       "    <tr style=\"text-align: right;\">\n",
       "      <th></th>\n",
       "      <th>avg_result</th>\n",
       "      <th>date</th>\n",
       "      <th>pid</th>\n",
       "      <th>portfolio</th>\n",
       "      <th>position</th>\n",
       "      <th>price_at_purchase</th>\n",
       "      <th>price_at_sale</th>\n",
       "      <th>recommendations</th>\n",
       "      <th>result</th>\n",
       "      <th>ticker</th>\n",
       "      <th>outcome</th>\n",
       "    </tr>\n",
       "  </thead>\n",
       "  <tbody>\n",
       "    <tr>\n",
       "      <th>0</th>\n",
       "      <td>1.007</td>\n",
       "      <td>2012-03-27 00:00:00</td>\n",
       "      <td>0</td>\n",
       "      <td>Big_100_1_LONG_SHORT_F</td>\n",
       "      <td>L</td>\n",
       "      <td>88.14</td>\n",
       "      <td>88.79</td>\n",
       "      <td>1</td>\n",
       "      <td>1.007</td>\n",
       "      <td>PM</td>\n",
       "      <td>successful</td>\n",
       "    </tr>\n",
       "    <tr>\n",
       "      <th>1</th>\n",
       "      <td>0.990</td>\n",
       "      <td>2012-03-27 00:00:00</td>\n",
       "      <td>1</td>\n",
       "      <td>Big_100_1_LONG_SHORT_F</td>\n",
       "      <td>S</td>\n",
       "      <td>119.98</td>\n",
       "      <td>118.84</td>\n",
       "      <td>1</td>\n",
       "      <td>0.990</td>\n",
       "      <td>V</td>\n",
       "      <td>unsuccessful</td>\n",
       "    </tr>\n",
       "    <tr>\n",
       "      <th>2</th>\n",
       "      <td>0.993</td>\n",
       "      <td>2012-03-27 00:00:00</td>\n",
       "      <td>2</td>\n",
       "      <td>Big_100_2_LONG_SHORT_F</td>\n",
       "      <td>L</td>\n",
       "      <td>88.14</td>\n",
       "      <td>88.79</td>\n",
       "      <td>2</td>\n",
       "      <td>1.007</td>\n",
       "      <td>PM</td>\n",
       "      <td>successful</td>\n",
       "    </tr>\n",
       "    <tr>\n",
       "      <th>3</th>\n",
       "      <td>0.993</td>\n",
       "      <td>2012-03-27 00:00:00</td>\n",
       "      <td>2</td>\n",
       "      <td>Big_100_2_LONG_SHORT_F</td>\n",
       "      <td>L</td>\n",
       "      <td>38.76</td>\n",
       "      <td>37.95</td>\n",
       "      <td>2</td>\n",
       "      <td>0.979</td>\n",
       "      <td>VZ</td>\n",
       "      <td>unsuccessful</td>\n",
       "    </tr>\n",
       "    <tr>\n",
       "      <th>4</th>\n",
       "      <td>0.994</td>\n",
       "      <td>2012-03-27 00:00:00</td>\n",
       "      <td>3</td>\n",
       "      <td>Big_100_2_LONG_SHORT_F</td>\n",
       "      <td>S</td>\n",
       "      <td>119.98</td>\n",
       "      <td>118.84</td>\n",
       "      <td>2</td>\n",
       "      <td>0.990</td>\n",
       "      <td>V</td>\n",
       "      <td>unsuccessful</td>\n",
       "    </tr>\n",
       "  </tbody>\n",
       "</table>\n",
       "</div>"
      ],
      "text/plain": [
       "   avg_result                 date  pid               portfolio position  \\\n",
       "0       1.007  2012-03-27 00:00:00    0  Big_100_1_LONG_SHORT_F        L   \n",
       "1       0.990  2012-03-27 00:00:00    1  Big_100_1_LONG_SHORT_F        S   \n",
       "2       0.993  2012-03-27 00:00:00    2  Big_100_2_LONG_SHORT_F        L   \n",
       "3       0.993  2012-03-27 00:00:00    2  Big_100_2_LONG_SHORT_F        L   \n",
       "4       0.994  2012-03-27 00:00:00    3  Big_100_2_LONG_SHORT_F        S   \n",
       "\n",
       "   price_at_purchase  price_at_sale  recommendations  result ticker  \\\n",
       "0              88.14          88.79                1   1.007     PM   \n",
       "1             119.98         118.84                1   0.990      V   \n",
       "2              88.14          88.79                2   1.007     PM   \n",
       "3              38.76          37.95                2   0.979     VZ   \n",
       "4             119.98         118.84                2   0.990      V   \n",
       "\n",
       "        outcome  \n",
       "0    successful  \n",
       "1  unsuccessful  \n",
       "2    successful  \n",
       "3  unsuccessful  \n",
       "4  unsuccessful  "
      ]
     },
     "execution_count": 91,
     "metadata": {},
     "output_type": "execute_result"
    }
   ],
   "source": [
    "def outcome_generator(el):\n",
    "    if el == 1:\n",
    "        return 'unchanged'\n",
    "    elif el > 1:\n",
    "        return 'successful'\n",
    "    elif el < 1:\n",
    "        return 'unsuccessful'\n",
    "    else:\n",
    "        return None\n",
    "\n",
    "recommendations['outcome'] = recommendations['result'].apply(outcome_generator)\n",
    "recommendations.head()"
   ]
  },
  {
   "cell_type": "markdown",
   "metadata": {},
   "source": [
    "Analizamos el porcentaje de efectividad de las recomendaciones realizada por la firma:"
   ]
  },
  {
   "cell_type": "code",
   "execution_count": 107,
   "metadata": {},
   "outputs": [
    {
     "name": "stdout",
     "output_type": "stream",
     "text": [
      "Successful recommendations: 52.56%\n",
      "Unsuccessful recommendations: 45.86%\n",
      "Unchanged recommendations: 1.58%\n"
     ]
    }
   ],
   "source": [
    "total = len(recommendations)\n",
    "outcomes = recommendations.groupby('outcome').size()\n",
    "\n",
    "print('Successful recommendations: {:.2f}%'.format(outcomes['successful'] / total * 100))\n",
    "print('Unsuccessful recommendations: {:.2f}%'.format(outcomes['unsuccessful'] / total * 100))\n",
    "print('Unchanged recommendations: {:.2f}%'.format(outcomes['unchanged'] / total * 100))"
   ]
  },
  {
   "cell_type": "code",
   "execution_count": 159,
   "metadata": {},
   "outputs": [
    {
     "data": {
      "image/png": "[encoded data removed]",
      "text/plain": [
       "<matplotlib.figure.Figure at 0x118460cc0>"
      ]
     },
     "metadata": {},
     "output_type": "display_data"
    }
   ],
   "source": [
    "recommendations.groupby('outcome').size().sort_values().plot(kind='bar', title='Recommendation outcome distribution', color=['#03A9F4', '#E91E63', '#009688'])\n",
    "plt.xlabel('Outcome')\n",
    "plt.ylabel('Recommendations made')\n",
    "plt.show()"
   ]
  },
  {
   "cell_type": "markdown",
   "metadata": {},
   "source": [
    "La efectividad de la recomendación por el tipo de posición:"
   ]
  },
  {
   "cell_type": "code",
   "execution_count": 200,
   "metadata": {},
   "outputs": [
    {
     "data": {
      "image/png": "[encoded data removed]",
      "text/plain": [
       "<matplotlib.figure.Figure at 0x1333c9fd0>"
      ]
     },
     "metadata": {},
     "output_type": "display_data"
    }
   ],
   "source": [
    "recommendations.groupby(['outcome', 'position']).size().unstack().plot(kind='bar', stacked=True)\n",
    "plt.legend(['Long', 'Short'])\n",
    "plt.show()"
   ]
  },
  {
   "cell_type": "markdown",
   "metadata": {},
   "source": [
    "Aqui se observa cuales son los top 3 portafolios con el mejor resultado y la fecha en la que se hizo la recomendación:"
   ]
  },
  {
   "cell_type": "code",
   "execution_count": 124,
   "metadata": {},
   "outputs": [
    {
     "data": {
      "text/html": [
       "<div>\n",
       "<style scoped>\n",
       "    .dataframe tbody tr th:only-of-type {\n",
       "        vertical-align: middle;\n",
       "    }\n",
       "\n",
       "    .dataframe tbody tr th {\n",
       "        vertical-align: top;\n",
       "    }\n",
       "\n",
       "    .dataframe thead th {\n",
       "        text-align: right;\n",
       "    }\n",
       "</style>\n",
       "<table border=\"1\" class=\"dataframe\">\n",
       "  <thead>\n",
       "    <tr style=\"text-align: right;\">\n",
       "      <th></th>\n",
       "      <th>pid</th>\n",
       "      <th>avg_result</th>\n",
       "      <th>date</th>\n",
       "      <th>portfolio</th>\n",
       "    </tr>\n",
       "  </thead>\n",
       "  <tbody>\n",
       "    <tr>\n",
       "      <th>3323065</th>\n",
       "      <td>461359</td>\n",
       "      <td>3.109</td>\n",
       "      <td>2014-06-25 00:00:00</td>\n",
       "      <td>S12-Util_1_LONG_SHORT_F</td>\n",
       "    </tr>\n",
       "    <tr>\n",
       "      <th>3325768</th>\n",
       "      <td>461731</td>\n",
       "      <td>3.109</td>\n",
       "      <td>2014-06-25 00:00:00</td>\n",
       "      <td>S12-Util_1_LONG_F</td>\n",
       "    </tr>\n",
       "    <tr>\n",
       "      <th>2147345</th>\n",
       "      <td>300926</td>\n",
       "      <td>3.081</td>\n",
       "      <td>2013-07-16 00:00:00</td>\n",
       "      <td>S12-Util_1_LONG_SHORT_F</td>\n",
       "    </tr>\n",
       "  </tbody>\n",
       "</table>\n",
       "</div>"
      ],
      "text/plain": [
       "            pid  avg_result                 date                portfolio\n",
       "3323065  461359       3.109  2014-06-25 00:00:00  S12-Util_1_LONG_SHORT_F\n",
       "3325768  461731       3.109  2014-06-25 00:00:00        S12-Util_1_LONG_F\n",
       "2147345  300926       3.081  2013-07-16 00:00:00  S12-Util_1_LONG_SHORT_F"
      ]
     },
     "execution_count": 124,
     "metadata": {},
     "output_type": "execute_result"
    }
   ],
   "source": [
    "recommendations.sort_values('avg_result', ascending=False)[['pid', 'avg_result', 'date', 'portfolio']].head(3)"
   ]
  },
  {
   "cell_type": "markdown",
   "metadata": {},
   "source": [
    "Y el top 3 de los portafolios con el peor resultado:"
   ]
  },
  {
   "cell_type": "code",
   "execution_count": 126,
   "metadata": {},
   "outputs": [
    {
     "data": {
      "text/html": [
       "<div>\n",
       "<style scoped>\n",
       "    .dataframe tbody tr th:only-of-type {\n",
       "        vertical-align: middle;\n",
       "    }\n",
       "\n",
       "    .dataframe tbody tr th {\n",
       "        vertical-align: top;\n",
       "    }\n",
       "\n",
       "    .dataframe thead th {\n",
       "        text-align: right;\n",
       "    }\n",
       "</style>\n",
       "<table border=\"1\" class=\"dataframe\">\n",
       "  <thead>\n",
       "    <tr style=\"text-align: right;\">\n",
       "      <th></th>\n",
       "      <th>pid</th>\n",
       "      <th>avg_result</th>\n",
       "      <th>date</th>\n",
       "      <th>portfolio</th>\n",
       "    </tr>\n",
       "  </thead>\n",
       "  <tbody>\n",
       "    <tr>\n",
       "      <th>653561</th>\n",
       "      <td>92425</td>\n",
       "      <td>0.236</td>\n",
       "      <td>2012-08-31 00:00:00</td>\n",
       "      <td>Cap_20-1000m_1_LONG_SHORT_F</td>\n",
       "    </tr>\n",
       "    <tr>\n",
       "      <th>653409</th>\n",
       "      <td>92405</td>\n",
       "      <td>0.236</td>\n",
       "      <td>2012-08-31 00:00:00</td>\n",
       "      <td>Cap_2-250m_1_LONG_SHORT_F</td>\n",
       "    </tr>\n",
       "    <tr>\n",
       "      <th>656101</th>\n",
       "      <td>92789</td>\n",
       "      <td>0.236</td>\n",
       "      <td>2012-08-31 00:00:00</td>\n",
       "      <td>Cap_2-250m_1_LONG_F</td>\n",
       "    </tr>\n",
       "  </tbody>\n",
       "</table>\n",
       "</div>"
      ],
      "text/plain": [
       "          pid  avg_result                 date                    portfolio\n",
       "653561  92425       0.236  2012-08-31 00:00:00  Cap_20-1000m_1_LONG_SHORT_F\n",
       "653409  92405       0.236  2012-08-31 00:00:00    Cap_2-250m_1_LONG_SHORT_F\n",
       "656101  92789       0.236  2012-08-31 00:00:00          Cap_2-250m_1_LONG_F"
      ]
     },
     "execution_count": 126,
     "metadata": {},
     "output_type": "execute_result"
    }
   ],
   "source": [
    "recommendations.sort_values('avg_result')[['pid', 'avg_result', 'date', 'portfolio']].head(3)"
   ]
  },
  {
   "cell_type": "markdown",
   "metadata": {},
   "source": [
    "El ratio de recomendaciones exitosas y erroneas se mantiene independientemente del tamaño del portafolio:"
   ]
  },
  {
   "cell_type": "code",
   "execution_count": 146,
   "metadata": {},
   "outputs": [
    {
     "data": {
      "image/png": "[encoded data removed]",
      "text/plain": [
       "<matplotlib.figure.Figure at 0x1128fcdd8>"
      ]
     },
     "metadata": {},
     "output_type": "display_data"
    }
   ],
   "source": [
    "by_portfolio = recommendations[recommendations['recommendations'].isin([1, 2, 5, 10, 20])] \\\n",
    "    .groupby(['recommendations', 'outcome']).size().unstack()\n",
    "    \n",
    "by_portfolio.plot(kind='bar', stacked=True, title='Recommendation outcome by portfolio size', figsize=(15, 5))\n",
    "\n",
    "plt.xlabel('Outcomes in portfolio sizes')\n",
    "plt.ylabel('# Recommendations made')\n",
    "plt.show()"
   ]
  },
  {
   "cell_type": "markdown",
   "metadata": {},
   "source": [
    "Se observa que el stocks más recomendado en los portafolios fue AAPL:"
   ]
  },
  {
   "cell_type": "code",
   "execution_count": 171,
   "metadata": {},
   "outputs": [
    {
     "name": "stdout",
     "output_type": "stream",
     "text": [
      "Number of unique stocks recommended: 4837\n"
     ]
    }
   ],
   "source": [
    "stocks = recommendations.groupby('ticker')\n",
    "print('Number of unique stocks recommended:', len(stocks))"
   ]
  },
  {
   "cell_type": "code",
   "execution_count": 172,
   "metadata": {},
   "outputs": [
    {
     "data": {
      "text/plain": [
       "ticker\n",
       "AAPL    12949\n",
       "HPQ     11958\n",
       "DB      11909\n",
       "PCLN    10902\n",
       "AMZN    10096\n",
       "GNW      9900\n",
       "PXD      9737\n",
       "AFL      8380\n",
       "UBS      8336\n",
       "HNT      8274\n",
       "dtype: int64"
      ]
     },
     "execution_count": 172,
     "metadata": {},
     "output_type": "execute_result"
    }
   ],
   "source": [
    "stocks.size().sort_values(ascending=False).head(10)"
   ]
  },
  {
   "cell_type": "code",
   "execution_count": 203,
   "metadata": {},
   "outputs": [],
   "source": [
    "recommendations['date'] = pd.to_datetime(recommendations.date)"
   ]
  },
  {
   "cell_type": "code",
   "execution_count": 207,
   "metadata": {},
   "outputs": [],
   "source": [
    "recommendations = recommendations.set_index('date')"
   ]
  },
  {
   "cell_type": "code",
   "execution_count": 208,
   "metadata": {},
   "outputs": [
    {
     "data": {
      "text/html": [
       "<div>\n",
       "<style scoped>\n",
       "    .dataframe tbody tr th:only-of-type {\n",
       "        vertical-align: middle;\n",
       "    }\n",
       "\n",
       "    .dataframe tbody tr th {\n",
       "        vertical-align: top;\n",
       "    }\n",
       "\n",
       "    .dataframe thead th {\n",
       "        text-align: right;\n",
       "    }\n",
       "</style>\n",
       "<table border=\"1\" class=\"dataframe\">\n",
       "  <thead>\n",
       "    <tr style=\"text-align: right;\">\n",
       "      <th></th>\n",
       "      <th>avg_result</th>\n",
       "      <th>pid</th>\n",
       "      <th>portfolio</th>\n",
       "      <th>position</th>\n",
       "      <th>price_at_purchase</th>\n",
       "      <th>price_at_sale</th>\n",
       "      <th>recommendations</th>\n",
       "      <th>result</th>\n",
       "      <th>ticker</th>\n",
       "      <th>outcome</th>\n",
       "    </tr>\n",
       "    <tr>\n",
       "      <th>date</th>\n",
       "      <th></th>\n",
       "      <th></th>\n",
       "      <th></th>\n",
       "      <th></th>\n",
       "      <th></th>\n",
       "      <th></th>\n",
       "      <th></th>\n",
       "      <th></th>\n",
       "      <th></th>\n",
       "      <th></th>\n",
       "    </tr>\n",
       "  </thead>\n",
       "  <tbody>\n",
       "    <tr>\n",
       "      <th>2012-03-27</th>\n",
       "      <td>1.007</td>\n",
       "      <td>0</td>\n",
       "      <td>Big_100_1_LONG_SHORT_F</td>\n",
       "      <td>L</td>\n",
       "      <td>88.14</td>\n",
       "      <td>88.79</td>\n",
       "      <td>1</td>\n",
       "      <td>1.007</td>\n",
       "      <td>PM</td>\n",
       "      <td>successful</td>\n",
       "    </tr>\n",
       "    <tr>\n",
       "      <th>2012-03-27</th>\n",
       "      <td>0.990</td>\n",
       "      <td>1</td>\n",
       "      <td>Big_100_1_LONG_SHORT_F</td>\n",
       "      <td>S</td>\n",
       "      <td>119.98</td>\n",
       "      <td>118.84</td>\n",
       "      <td>1</td>\n",
       "      <td>0.990</td>\n",
       "      <td>V</td>\n",
       "      <td>unsuccessful</td>\n",
       "    </tr>\n",
       "    <tr>\n",
       "      <th>2012-03-27</th>\n",
       "      <td>0.993</td>\n",
       "      <td>2</td>\n",
       "      <td>Big_100_2_LONG_SHORT_F</td>\n",
       "      <td>L</td>\n",
       "      <td>88.14</td>\n",
       "      <td>88.79</td>\n",
       "      <td>2</td>\n",
       "      <td>1.007</td>\n",
       "      <td>PM</td>\n",
       "      <td>successful</td>\n",
       "    </tr>\n",
       "    <tr>\n",
       "      <th>2012-03-27</th>\n",
       "      <td>0.993</td>\n",
       "      <td>2</td>\n",
       "      <td>Big_100_2_LONG_SHORT_F</td>\n",
       "      <td>L</td>\n",
       "      <td>38.76</td>\n",
       "      <td>37.95</td>\n",
       "      <td>2</td>\n",
       "      <td>0.979</td>\n",
       "      <td>VZ</td>\n",
       "      <td>unsuccessful</td>\n",
       "    </tr>\n",
       "    <tr>\n",
       "      <th>2012-03-27</th>\n",
       "      <td>0.994</td>\n",
       "      <td>3</td>\n",
       "      <td>Big_100_2_LONG_SHORT_F</td>\n",
       "      <td>S</td>\n",
       "      <td>119.98</td>\n",
       "      <td>118.84</td>\n",
       "      <td>2</td>\n",
       "      <td>0.990</td>\n",
       "      <td>V</td>\n",
       "      <td>unsuccessful</td>\n",
       "    </tr>\n",
       "  </tbody>\n",
       "</table>\n",
       "</div>"
      ],
      "text/plain": [
       "            avg_result  pid               portfolio position  \\\n",
       "date                                                           \n",
       "2012-03-27       1.007    0  Big_100_1_LONG_SHORT_F        L   \n",
       "2012-03-27       0.990    1  Big_100_1_LONG_SHORT_F        S   \n",
       "2012-03-27       0.993    2  Big_100_2_LONG_SHORT_F        L   \n",
       "2012-03-27       0.993    2  Big_100_2_LONG_SHORT_F        L   \n",
       "2012-03-27       0.994    3  Big_100_2_LONG_SHORT_F        S   \n",
       "\n",
       "            price_at_purchase  price_at_sale  recommendations  result ticker  \\\n",
       "date                                                                           \n",
       "2012-03-27              88.14          88.79                1   1.007     PM   \n",
       "2012-03-27             119.98         118.84                1   0.990      V   \n",
       "2012-03-27              88.14          88.79                2   1.007     PM   \n",
       "2012-03-27              38.76          37.95                2   0.979     VZ   \n",
       "2012-03-27             119.98         118.84                2   0.990      V   \n",
       "\n",
       "                 outcome  \n",
       "date                      \n",
       "2012-03-27    successful  \n",
       "2012-03-27  unsuccessful  \n",
       "2012-03-27    successful  \n",
       "2012-03-27  unsuccessful  \n",
       "2012-03-27  unsuccessful  "
      ]
     },
     "execution_count": 208,
     "metadata": {},
     "output_type": "execute_result"
    }
   ],
   "source": [
    "recommendations.head()"
   ]
  },
  {
   "cell_type": "markdown",
   "metadata": {},
   "source": [
    "Cantidad de recomendaciones a través de los años:"
   ]
  },
  {
   "cell_type": "code",
   "execution_count": 238,
   "metadata": {},
   "outputs": [
    {
     "data": {
      "image/png": "[encoded data removed]",
      "text/plain": [
       "<matplotlib.figure.Figure at 0x129f13cf8>"
      ]
     },
     "metadata": {},
     "output_type": "display_data"
    }
   ],
   "source": [
    "recommendations.groupby([recommendations.index.year, recommendations.index.month]).size().plot(title='Recommendations made through the years 2012 - 2014', figsize=(18, 5))\n",
    "plt.xlabel('(Year, Month)')\n",
    "plt.ylabel('Recommendations made')\n",
    "plt.show()"
   ]
  },
  {
   "cell_type": "markdown",
   "metadata": {},
   "source": [
    "Cantidad de recomendaciones exitosas a través de los años"
   ]
  },
  {
   "cell_type": "code",
   "execution_count": 237,
   "metadata": {},
   "outputs": [
    {
     "data": {
      "image/png": "[encoded data removed]",
      "text/plain": [
       "<matplotlib.figure.Figure at 0x12a5169b0>"
      ]
     },
     "metadata": {},
     "output_type": "display_data"
    }
   ],
   "source": [
    "sr = recommendations[recommendations.outcome == 'successful']\n",
    "sr.groupby([sr.index.year, sr.index.month]).size().plot(title='Successful recommendations through the years', figsize=(18, 5), color='green')\n",
    "\n",
    "plt.xlabel('(Year, Month)')\n",
    "plt.ylabel('Recommendations made')\n",
    "plt.show()"
   ]
  }
 ],
 "metadata": {
  "kernelspec": {
   "display_name": "Python 3",
   "language": "python",
   "name": "python3"
  },
  "language_info": {
   "codemirror_mode": {
    "name": "ipython",
    "version": 3
   },
   "file_extension": ".py",
   "mimetype": "text/x-python",
   "name": "python",
   "nbconvert_exporter": "python",
   "pygments_lexer": "ipython3",
   "version": "3.6.3"
  }
 },
 "nbformat": 4,
 "nbformat_minor": 2
}
